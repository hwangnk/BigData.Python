{
 "cells": [
  {
   "cell_type": "markdown",
   "metadata": {},
   "source": [
    "### 동물원 클래스\n",
    "다음과 같이 작동하는 동물원 클래스를 만들어 보자."
   ]
  },
  {
   "cell_type": "code",
   "execution_count": 6,
   "metadata": {},
   "outputs": [],
   "source": [
    "class Zoo():\n",
    "    \n",
    "    def __init__(self):\n",
    "        self.animals = []\n",
    "        print(\"A Zoo has opened!\")\n",
    "    \n",
    "    def animal_enters(self, x):\n",
    "        if not x in self.animals:\n",
    "            self.animals.append(x)\n",
    "            print( x + \" is a new member of our Zoo!\")\n",
    "        else:\n",
    "            print(\"We already have \" + x)\n",
    "            \n",
    "    def animal_leaves(self, x):\n",
    "        if x in self.animals:\n",
    "            i = self.animals.index(x)\n",
    "            del self.animals[i]\n",
    "        else:\n",
    "            print(\"No such animal in the Zoo!\")\n",
    "            \n",
    "    def show_animals(self):\n",
    "        print(self.animals)"
   ]
  },
  {
   "cell_type": "markdown",
   "metadata": {},
   "source": [
    "다음과 같이 테스트 해 봅니다."
   ]
  },
  {
   "cell_type": "code",
   "execution_count": 7,
   "metadata": {},
   "outputs": [
    {
     "name": "stdout",
     "output_type": "stream",
     "text": [
      "A Zoo has opened!\n"
     ]
    }
   ],
   "source": [
    "my_zoo = Zoo()"
   ]
  },
  {
   "cell_type": "code",
   "execution_count": 8,
   "metadata": {},
   "outputs": [
    {
     "name": "stdout",
     "output_type": "stream",
     "text": [
      "Giraffe is a new member of our Zoo!\n"
     ]
    }
   ],
   "source": [
    "my_zoo.animal_enters('Giraffe')"
   ]
  },
  {
   "cell_type": "code",
   "execution_count": 9,
   "metadata": {},
   "outputs": [
    {
     "name": "stdout",
     "output_type": "stream",
     "text": [
      "We already have Giraffe\n"
     ]
    }
   ],
   "source": [
    "my_zoo.animal_enters('Giraffe')"
   ]
  },
  {
   "cell_type": "code",
   "execution_count": 10,
   "metadata": {},
   "outputs": [
    {
     "name": "stdout",
     "output_type": "stream",
     "text": [
      "Lion is a new member of our Zoo!\n"
     ]
    }
   ],
   "source": [
    "my_zoo.animal_enters('Lion')"
   ]
  },
  {
   "cell_type": "code",
   "execution_count": 11,
   "metadata": {},
   "outputs": [
    {
     "name": "stdout",
     "output_type": "stream",
     "text": [
      "Monkey is a new member of our Zoo!\n"
     ]
    }
   ],
   "source": [
    "my_zoo.animal_enters('Monkey')"
   ]
  },
  {
   "cell_type": "code",
   "execution_count": 12,
   "metadata": {},
   "outputs": [
    {
     "name": "stdout",
     "output_type": "stream",
     "text": [
      "Zebra is a new member of our Zoo!\n"
     ]
    }
   ],
   "source": [
    "my_zoo.animal_enters('Zebra')"
   ]
  },
  {
   "cell_type": "code",
   "execution_count": 13,
   "metadata": {},
   "outputs": [
    {
     "name": "stdout",
     "output_type": "stream",
     "text": [
      "['Giraffe', 'Lion', 'Monkey', 'Zebra']\n"
     ]
    }
   ],
   "source": [
    "my_zoo.show_animals()"
   ]
  },
  {
   "cell_type": "code",
   "execution_count": 14,
   "metadata": {},
   "outputs": [
    {
     "name": "stdout",
     "output_type": "stream",
     "text": [
      "No such animal in the Zoo!\n"
     ]
    }
   ],
   "source": [
    "my_zoo.animal_leaves(\"Tiger\")"
   ]
  },
  {
   "cell_type": "code",
   "execution_count": 15,
   "metadata": {},
   "outputs": [],
   "source": [
    "my_zoo.animal_leaves(\"Lion\")"
   ]
  },
  {
   "cell_type": "code",
   "execution_count": 16,
   "metadata": {},
   "outputs": [
    {
     "name": "stdout",
     "output_type": "stream",
     "text": [
      "['Giraffe', 'Monkey', 'Zebra']\n"
     ]
    }
   ],
   "source": [
    "my_zoo.show_animals()"
   ]
  },
  {
   "cell_type": "code",
   "execution_count": 17,
   "metadata": {},
   "outputs": [],
   "source": [
    "my_zoo.animal_leaves(\"Giraffe\")"
   ]
  },
  {
   "cell_type": "code",
   "execution_count": 19,
   "metadata": {},
   "outputs": [
    {
     "name": "stdout",
     "output_type": "stream",
     "text": [
      "['Monkey', 'Zebra']\n"
     ]
    }
   ],
   "source": [
    "my_zoo.show_animals()"
   ]
  }
 ],
 "metadata": {
  "kernelspec": {
   "display_name": "Python 3",
   "language": "python",
   "name": "python3"
  },
  "language_info": {
   "codemirror_mode": {
    "name": "ipython",
    "version": 3
   },
   "file_extension": ".py",
   "mimetype": "text/x-python",
   "name": "python",
   "nbconvert_exporter": "python",
   "pygments_lexer": "ipython3",
   "version": "3.6.5"
  }
 },
 "nbformat": 4,
 "nbformat_minor": 2
}
